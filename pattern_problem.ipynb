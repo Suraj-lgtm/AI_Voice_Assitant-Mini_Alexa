{
  "nbformat": 4,
  "nbformat_minor": 0,
  "metadata": {
    "colab": {
      "name": "pattern problem ",
      "provenance": [],
      "collapsed_sections": [],
      "authorship_tag": "ABX9TyMWesw5yZERXGFOx0Kf/nK2",
      "include_colab_link": true
    },
    "kernelspec": {
      "name": "python3",
      "display_name": "Python 3"
    },
    "language_info": {
      "name": "python"
    }
  },
  "cells": [
    {
      "cell_type": "markdown",
      "metadata": {
        "id": "view-in-github",
        "colab_type": "text"
      },
      "source": [
        "<a href=\"https://colab.research.google.com/github/Suraj-lgtm/Suraj-lgtm/blob/Python-code/pattern_problem.ipynb\" target=\"_parent\"><img src=\"https://colab.research.google.com/assets/colab-badge.svg\" alt=\"Open In Colab\"/></a>"
      ]
    },
    {
      "cell_type": "code",
      "source": [
        "n= int(input())\n",
        "i=1\n",
        "while i<=n:\n",
        "  j = 1\n",
        "  while j<=n:\n",
        "    print( j , end='')\n",
        "    j=j+1\n",
        "  print()\n",
        "  i=i+1  "
      ],
      "metadata": {
        "colab": {
          "base_uri": "https://localhost:8080/"
        },
        "id": "Sp0UkyOzte-f",
        "outputId": "6321bab5-695c-440c-f118-43c318c07832"
      },
      "execution_count": null,
      "outputs": [
        {
          "output_type": "stream",
          "name": "stdout",
          "text": [
            "4\n",
            "1234\n",
            "1234\n",
            "1234\n",
            "1234\n"
          ]
        }
      ]
    },
    {
      "cell_type": "code",
      "source": [
        "n=int(input())\n",
        "i=1\n",
        "while(i<=n):\n",
        "  j=1\n",
        "  while(j<=n):\n",
        "    print(n-j+1, end='')\n",
        "    j=j+1\n",
        "  print()\n",
        "  i=i+1  "
      ],
      "metadata": {
        "colab": {
          "base_uri": "https://localhost:8080/"
        },
        "id": "0h4H1vDtu8Aq",
        "outputId": "5056dea9-aba7-4892-db6a-5072dfe4eb7f"
      },
      "execution_count": null,
      "outputs": [
        {
          "output_type": "stream",
          "name": "stdout",
          "text": [
            "4\n",
            "4321\n",
            "4321\n",
            "4321\n",
            "4321\n"
          ]
        }
      ]
    },
    {
      "cell_type": "code",
      "source": [
        "n=int(input())\n",
        "i=1\n",
        "while(i<=n):\n",
        "  j=1\n",
        "  while(j<=i):\n",
        "    print(j, end='')\n",
        "    j=j+1\n",
        "  print()\n",
        "  i=i+1  "
      ],
      "metadata": {
        "colab": {
          "base_uri": "https://localhost:8080/"
        },
        "outputId": "33ed00b4-12c0-431e-b7b6-8224785a6b94",
        "id": "e9XjwY3WxPcB"
      },
      "execution_count": null,
      "outputs": [
        {
          "output_type": "stream",
          "name": "stdout",
          "text": [
            "4\n",
            "1\n",
            "12\n",
            "123\n",
            "1234\n"
          ]
        }
      ]
    },
    {
      "cell_type": "code",
      "source": [
        "n=int(input())\n",
        "i=1\n",
        "while(i<=n):\n",
        "  j=1\n",
        "  p=i\n",
        "  while(j<=i):\n",
        "    print(p,end='')\n",
        "    j=j+1\n",
        "    p=p+1\n",
        "  print()\n",
        "  i=i+1 \n",
        "  \n"
      ],
      "metadata": {
        "colab": {
          "base_uri": "https://localhost:8080/"
        },
        "id": "-4KY_Lxs1jDL",
        "outputId": "2ce59761-2426-4a33-bc9a-bbeef1bb9a65"
      },
      "execution_count": null,
      "outputs": [
        {
          "output_type": "stream",
          "name": "stdout",
          "text": [
            "5\n",
            "1\n",
            "23\n",
            "345\n",
            "4567\n",
            "56789\n"
          ]
        }
      ]
    },
    {
      "cell_type": "code",
      "source": [
        "n=int(input())\n",
        "i=1\n",
        "while(i<=n):\n",
        "  j=1\n",
        "  while(j<=i):\n",
        "    print(i+j-1,end='')\n",
        "    j=j+1\n",
        "  print()\n",
        "  i=i+1  "
      ],
      "metadata": {
        "colab": {
          "base_uri": "https://localhost:8080/"
        },
        "id": "alDjpjZU2us_",
        "outputId": "dec3b042-b383-4448-ed64-3f78eb4f7770"
      },
      "execution_count": null,
      "outputs": [
        {
          "output_type": "stream",
          "name": "stdout",
          "text": [
            "4\n",
            "1\n",
            "23\n",
            "345\n",
            "4567\n"
          ]
        }
      ]
    },
    {
      "cell_type": "code",
      "source": [
        "n=int(input())\n",
        "i=1\n",
        "p=1\n",
        "while(i<=n):\n",
        "  j=1\n",
        "  while(j<=i):\n",
        "    print(p,end='')\n",
        "    p=p+1\n",
        "    j=j+1\n",
        "  print()\n",
        "  i=i+1\n",
        "\n"
      ],
      "metadata": {
        "colab": {
          "base_uri": "https://localhost:8080/"
        },
        "id": "q1U2SOj43cpS",
        "outputId": "de550341-4008-44e4-c1c9-20f54cdece1f"
      },
      "execution_count": null,
      "outputs": [
        {
          "output_type": "stream",
          "name": "stdout",
          "text": [
            "4\n",
            "1\n",
            "23\n",
            "456\n",
            "78910\n"
          ]
        }
      ]
    },
    {
      "cell_type": "code",
      "source": [
        "k=int(input())\n",
        "i=1\n",
        "while(i<=n):\n",
        "  j=1\n",
        "  while(j<=n):\n",
        "    charP=chr(ord('A')+j-1)\n",
        "    print(charP,end='')\n",
        "    j=j+1\n",
        "  print()\n",
        "  i=i+1\n"
      ],
      "metadata": {
        "colab": {
          "base_uri": "https://localhost:8080/"
        },
        "id": "ukfoh3scJ_rs",
        "outputId": "d083ec69-4d97-4033-e9c1-38ec92bb1ab9"
      },
      "execution_count": null,
      "outputs": [
        {
          "output_type": "stream",
          "name": "stdout",
          "text": [
            "4\n",
            "ABCD\n",
            "ABCD\n",
            "ABCD\n",
            "ABCD\n"
          ]
        }
      ]
    },
    {
      "cell_type": "code",
      "source": [
        "k=int(input())\n",
        "i=1\n",
        "while i <= n:\n",
        "  j=1\n",
        "  start_char = chr(ord('A') + i - 1)\n",
        "  while j <= n:\n",
        "    charP = chr(ord(start_char) + j - 1)\n",
        "    print(charP,end='')\n",
        "    j=j+1\n",
        "  print()\n",
        "  i=i+1  "
      ],
      "metadata": {
        "colab": {
          "base_uri": "https://localhost:8080/"
        },
        "id": "wivYp0qTL3eE",
        "outputId": "04f02e5f-a5f3-4038-a6be-eefa5406c19c"
      },
      "execution_count": null,
      "outputs": [
        {
          "output_type": "stream",
          "name": "stdout",
          "text": [
            "4\n",
            "ABCD\n",
            "BCDE\n",
            "CDEF\n",
            "DEFG\n"
          ]
        }
      ]
    },
    {
      "cell_type": "code",
      "source": [
        "n=int(input())\n",
        "i=1\n",
        "while(i<=n):\n",
        "  j=1\n",
        "  while(j<=n-i+1):\n",
        "    print('*',end='')\n",
        "    j=j+1\n",
        "  print()  \n",
        "  i=i+1"
      ],
      "metadata": {
        "colab": {
          "base_uri": "https://localhost:8080/"
        },
        "id": "Bt-AdiE2EMFB",
        "outputId": "cde501c4-ce5e-4624-add4-2c51ca0b37d6"
      },
      "execution_count": 1,
      "outputs": [
        {
          "output_type": "stream",
          "name": "stdout",
          "text": [
            "4\n",
            "****\n",
            "***\n",
            "**\n",
            "*\n"
          ]
        }
      ]
    },
    {
      "cell_type": "code",
      "source": [
        "n=int(input())\n",
        "i=1\n",
        "while(i<=n):\n",
        "  j=1\n",
        "  while(j<=n-i+1):\n",
        "    print( i ,end='')\n",
        "    j=j+1\n",
        "  print()\n",
        "  i=i+1  \n",
        "\n"
      ],
      "metadata": {
        "colab": {
          "base_uri": "https://localhost:8080/"
        },
        "id": "FTh7Hs1KF1fV",
        "outputId": "fccd7540-cf33-4092-e5e1-e9fa6af4ef4e"
      },
      "execution_count": 4,
      "outputs": [
        {
          "output_type": "stream",
          "name": "stdout",
          "text": [
            "4\n",
            "1111\n",
            "222\n",
            "33\n",
            "4\n"
          ]
        }
      ]
    },
    {
      "cell_type": "code",
      "source": [
        "n=int(input())\n",
        "i=1\n",
        "while(i<=n):\n",
        "  spaces=1\n",
        "  while spaces <= n-i:\n",
        "    print('',end=\" \")\n",
        "    spaces=spaces+1\n",
        "  stars=1\n",
        "  while(stars <= i):\n",
        "    print('*',end=\" \")\n",
        "    stars=stars+1\n",
        "  print()\n",
        "  i=i+1    "
      ],
      "metadata": {
        "colab": {
          "base_uri": "https://localhost:8080/"
        },
        "id": "02pMqrhoJC1v",
        "outputId": "9daa5e88-5d21-4760-e16a-c942730edd46"
      },
      "execution_count": 6,
      "outputs": [
        {
          "output_type": "stream",
          "name": "stdout",
          "text": [
            "4\n",
            "   * \n",
            "  * * \n",
            " * * * \n",
            "* * * * \n"
          ]
        }
      ]
    },
    {
      "cell_type": "code",
      "source": [
        " "
      ],
      "metadata": {
        "id": "DqjBZ7RCPDZz"
      },
      "execution_count": null,
      "outputs": []
    },
    {
      "cell_type": "code",
      "source": [
        "n=int(input())\n",
        "i=1\n",
        "while(i<=n):\n",
        "  spaces=1\n",
        "  while spaces <= n-i:\n",
        "    print('',end=\" \")\n",
        "    spaces=spaces+1\n",
        "  j=1\n",
        "  while(j <= i):\n",
        "    print(j,end= \"\")\n",
        "    j=j+1\n",
        "    \n",
        "  print()\n",
        "  i=i+1    "
      ],
      "metadata": {
        "colab": {
          "base_uri": "https://localhost:8080/"
        },
        "outputId": "31c2ffd3-d280-4cb8-9d9b-33b5b5981367",
        "id": "mOPkq0HrQDRb"
      },
      "execution_count": 18,
      "outputs": [
        {
          "output_type": "stream",
          "name": "stdout",
          "text": [
            "4\n",
            "   1\n",
            "  12\n",
            " 123\n",
            "1234\n"
          ]
        }
      ]
    },
    {
      "cell_type": "code",
      "source": [
        "n=int(input())\n",
        "i=1\n",
        "while(i<=n):\n",
        "  spaces=1\n",
        "  while spaces <= n-i:\n",
        "    print('', end=\" \")\n",
        "    spaces=spaces+1\n",
        "  p=1\n",
        "  j=1\n",
        "  while(j<=i):\n",
        "    print( p,end='')\n",
        "    j=j+1\n",
        "    p=p+1\n",
        "  print()\n",
        "  i=i+1   \n",
        "    \n"
      ],
      "metadata": {
        "colab": {
          "base_uri": "https://localhost:8080/"
        },
        "id": "rXWpfChcQmRF",
        "outputId": "0daba345-8cd3-4ba3-e1d2-fbe9880c175f"
      },
      "execution_count": 21,
      "outputs": [
        {
          "output_type": "stream",
          "name": "stdout",
          "text": [
            "5\n",
            "    1\n",
            "   12\n",
            "  123\n",
            " 1234\n",
            "12345\n"
          ]
        }
      ]
    },
    {
      "cell_type": "code",
      "source": [
        "n=int(input())\n",
        "i=1\n",
        "while(i<=n):\n",
        "  spaces=1\n",
        "  #spaces\n",
        "  while spaces <= n-i:\n",
        "    print('', end=\" \")\n",
        "    spaces=spaces+1\n",
        "  p=1\n",
        "  j=1\n",
        "  #incresing seq.\n",
        "  while(j<=i):\n",
        "    print( p,end='')\n",
        "    j=j+1\n",
        "    p=p+1\n",
        "    #decresing seq.\n",
        "  while p>=1 :\n",
        "    print(p,end='')\n",
        "    p=p-1\n",
        "  print()\n",
        "  i=i+1  "
      ],
      "metadata": {
        "colab": {
          "base_uri": "https://localhost:8080/"
        },
        "id": "57PcqA0oaM_3",
        "outputId": "5bb42250-b63d-49bd-f787-c0629c1b7ae5"
      },
      "execution_count": 22,
      "outputs": [
        {
          "output_type": "stream",
          "name": "stdout",
          "text": [
            "5\n",
            "    121\n",
            "   12321\n",
            "  1234321\n",
            " 123454321\n",
            "12345654321\n"
          ]
        }
      ]
    },
    {
      "cell_type": "code",
      "source": [
        "n=int(input())\n",
        "i=1\n",
        "while(i<=n):\n",
        "  spaces=1\n",
        "  #spaces\n",
        "  while spaces <= n-i:\n",
        "    print('', end=\" \")\n",
        "    spaces=spaces+1\n",
        "  p=1\n",
        "  j=1\n",
        "  #incresing seq.\n",
        "  while(j<=i):\n",
        "    print( p,end='')\n",
        "    j=j+1\n",
        "    p=p+1\n",
        "    #decresing seq.\n",
        "  while p>=i:\n",
        "    print(p,end='')\n",
        "    p=p-1\n",
        "  print()\n",
        "  i=i+1  "
      ],
      "metadata": {
        "colab": {
          "base_uri": "https://localhost:8080/"
        },
        "outputId": "15330746-4266-4698-cc86-41bd06985254",
        "id": "XdFPr1j8f8nM"
      },
      "execution_count": 32,
      "outputs": [
        {
          "output_type": "stream",
          "name": "stdout",
          "text": [
            "5\n",
            "    121\n",
            "   1232\n",
            "  12343\n",
            " 123454\n",
            "1234565\n"
          ]
        }
      ]
    },
    {
      "cell_type": "code",
      "source": [
        ""
      ],
      "metadata": {
        "id": "Dvl30NsdiB-q"
      },
      "execution_count": null,
      "outputs": []
    }
  ]
}